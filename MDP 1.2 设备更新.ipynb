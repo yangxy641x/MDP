{
 "cells": [
  {
   "cell_type": "code",
   "execution_count": 5,
   "metadata": {},
   "outputs": [
    {
     "name": "stdout",
     "output_type": "stream",
     "text": [
      "3.5\n",
      "3.2\n",
      "2.7\n",
      "2.1\n",
      "2.5\n",
      "6.7\n",
      "5.9\n",
      "4.8\n",
      "4.6\n",
      "5.7\n",
      "9.4\n",
      "8.0\n",
      "7.4\n",
      "7.8\n",
      "8.4\n",
      "11.5\n",
      "10.6\n",
      "10.5\n",
      "10.5\n",
      "10.5\n",
      "14.1\n",
      "13.7\n",
      "13.2\n",
      "12.6\n",
      "13.1\n",
      "最优值函数矩阵（阶段*状态）为：\n",
      "\n",
      "\n",
      "[[ 14.1  13.7  13.2  12.6  13.1]\n",
      " [ 11.5  10.6  10.5  10.5  10.5]\n",
      " [  9.4   8.    7.4   7.8   8.4]\n",
      " [  6.7   5.9   4.8   4.6   5.7]\n",
      " [  3.5   3.2   2.7   2.1   2.5]]\n",
      "******************************************************\n",
      "最优策略函数矩阵（阶段*状态）为：\n",
      "\n",
      "\n",
      "[[ 0.  0.  0.  0.  1.]\n",
      " [ 0.  0.  0.  0.  1.]\n",
      " [ 0.  0.  1.  0.  1.]\n",
      " [ 0.  0.  0.  0.  1.]\n",
      " [ 0.  0.  0.  0.  1.]]\n"
     ]
    }
   ],
   "source": [
    "# -*- coding: utf-8 -*-\n",
    "\"\"\"\n",
    "Created on Sat Mar 17 19:28:29 2018\n",
    "\n",
    "@author: yangx\n",
    "\"\"\"\n",
    "\n",
    "import numpy as np\n",
    "r=np.array([4,3.8,3.4,3,2.5])\n",
    "c=np.array([0.5,0.6,0.7,0.9,1.2])\n",
    "w=np.array([4,3.5,3,2.4,1])\n",
    "V=np.mat(np.zeros((6,6)))\n",
    "f=np.mat(np.zeros((5,5)))\n",
    "f[:,-1]=1                       #1为更换，0为保留，i=4时必须更换\n",
    "for n in np.arange(4,-1,-1):\n",
    "    for i in np.arange(5):\n",
    "        if i==4:\n",
    "            V[n,4]=-1.5+w[0]+V[n+1,1]\n",
    "            print(V[n,4])\n",
    "            continue\n",
    "        if r[i]-c[i]+V[n+1,i+1]<-1.5+w[i]+V[n+1,1]:\n",
    "            f[n,i]=1\n",
    "        V[n,i]=max(r[i]-c[i]+V[n+1,i+1],-1.5+w[i]+V[n+1,1])\n",
    "        print(V[n,i])\n",
    "OptVal=V[:5,:5]    #只取前五行五列（其余的为0）\n",
    "OptStr=f\n",
    "print('最优值函数矩阵（阶段*状态）为：')\n",
    "print('\\n')\n",
    "print(OptVal)\n",
    "print('******************************************************')\n",
    "print('最优策略函数矩阵（阶段*状态）为：')\n",
    "print('\\n')\n",
    "print(OptStr)"
   ]
  },
  {
   "cell_type": "code",
   "execution_count": null,
   "metadata": {
    "collapsed": true
   },
   "outputs": [],
   "source": []
  }
 ],
 "metadata": {
  "kernelspec": {
   "display_name": "Python 3",
   "language": "python",
   "name": "python3"
  },
  "language_info": {
   "codemirror_mode": {
    "name": "ipython",
    "version": 3
   },
   "file_extension": ".py",
   "mimetype": "text/x-python",
   "name": "python",
   "nbconvert_exporter": "python",
   "pygments_lexer": "ipython3",
   "version": "3.6.3"
  }
 },
 "nbformat": 4,
 "nbformat_minor": 2
}
