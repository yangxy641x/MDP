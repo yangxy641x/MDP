{
 "cells": [
  {
   "cell_type": "code",
   "execution_count": 1,
   "metadata": {
    "collapsed": true
   },
   "outputs": [],
   "source": [
    "import numpy as np"
   ]
  },
  {
   "cell_type": "code",
   "execution_count": 2,
   "metadata": {},
   "outputs": [
    {
     "data": {
      "text/plain": [
       "matrix([[ 0.,  0.,  0.,  0.,  1.],\n",
       "        [ 0.,  0.,  0.,  0.,  1.],\n",
       "        [ 0.,  0.,  0.,  0.,  1.],\n",
       "        [ 0.,  0.,  0.,  0.,  1.],\n",
       "        [ 0.,  0.,  0.,  0.,  1.]])"
      ]
     },
     "execution_count": 2,
     "metadata": {},
     "output_type": "execute_result"
    }
   ],
   "source": [
    "r=np.array([4,3.8,3.4,3,2.5])\n",
    "c=np.array([0.5,0.6,0.7,0.9,1.2])\n",
    "w=np.array([4,3.5,3,2.4,1])\n",
    "#P=np.mat([[0.8,0.1,.05,.05,0],[0,.7,.2,.1,0],[0,0,.6,.3,.2],[0,0,0,.5,.5],[0,0,0,0,1])，原5*5的P矩阵无法与6*6的V矩阵相乘\n",
    "P=np.mat([[0.8,0.1,.05,.05,0,0],[0,.7,.2,.1,0,0],[0,0,.6,.3,.2,0],[0,0,0,.5,.5,0],[0,0,0,0,1,0]])  #加一列0向量，成为5*6矩阵，不影响结果\n",
    "V=np.mat(np.zeros((6,6)))\n",
    "f=np.mat(np.zeros((5,5)))\n",
    "f[:,-1]=1\n",
    "f                       #1为更换，0为保留，i=4时必须更换"
   ]
  },
  {
   "cell_type": "code",
   "execution_count": 3,
   "metadata": {},
   "outputs": [
    {
     "name": "stdout",
     "output_type": "stream",
     "text": [
      "最优值函数矩阵（阶段*状态）为：\n",
      "\t\n",
      "[[ 16.34888  14.84888  14.46178  13.74888  12.34888]\n",
      " [ 13.2198   11.8106   11.2198   10.6198    9.2198 ]\n",
      " [ 10.063     8.931     8.063     7.463     6.063  ]\n",
      " [  6.86      6.19      4.86      4.26      2.86   ]\n",
      " [  3.5       3.2       2.7       2.1      -0.5    ]]\n",
      "******************************************************\n",
      "最优策略函数矩阵（阶段*状态）为：\n",
      "\t\n",
      "[[ 0.  1.  0.  1.  1.]\n",
      " [ 0.  0.  1.  1.  1.]\n",
      " [ 0.  0.  1.  1.  1.]\n",
      " [ 0.  0.  1.  1.  1.]\n",
      " [ 0.  0.  0.  0.  1.]]\n"
     ]
    }
   ],
   "source": [
    "for n in np.arange(4,-1,-1):\n",
    "    for i in np.arange(5):\n",
    "        if i==4:\n",
    "            V[n,4]=-1.5+w[4]+np.dot(P,V.T)[0,n+1]\n",
    "            #print(V[n,4])\n",
    "            continue\n",
    "        if r[i]-c[i]+np.dot(P,V.T)[i,n+1]<-1.5+w[i]+np.dot(P,V.T)[0,n+1]:\n",
    "            f[n,i]=1\n",
    "        V[n,i]=max(r[i]-c[i]+np.dot(P,V.T)[i,n+1],-1.5+w[i]+np.dot(P,V.T)[0,n+1])\n",
    "        #print(V[n,i])\n",
    "OptVal=V[:5,:5]    #只取前五行五列（其余的为0）\n",
    "OptStr=f\n",
    "print('最优值函数矩阵（阶段*状态）为：')\n",
    "print('\\t')\n",
    "print(OptVal)\n",
    "print('******************************************************')\n",
    "print('最优策略函数矩阵（阶段*状态）为：')\n",
    "print('\\t')\n",
    "print(OptStr)"
   ]
  },
  {
   "cell_type": "code",
   "execution_count": null,
   "metadata": {
    "collapsed": true
   },
   "outputs": [],
   "source": []
  }
 ],
 "metadata": {
  "kernelspec": {
   "display_name": "Python 3",
   "language": "python",
   "name": "python3"
  },
  "language_info": {
   "codemirror_mode": {
    "name": "ipython",
    "version": 3
   },
   "file_extension": ".py",
   "mimetype": "text/x-python",
   "name": "python",
   "nbconvert_exporter": "python",
   "pygments_lexer": "ipython3",
   "version": "3.6.3"
  }
 },
 "nbformat": 4,
 "nbformat_minor": 2
}
